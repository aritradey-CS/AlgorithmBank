{
  "nbformat": 4,
  "nbformat_minor": 0,
  "metadata": {
    "colab": {
      "provenance": [],
      "authorship_tag": "ABX9TyMHbkPuOE/WeJ0AlSnyLhQ5",
      "include_colab_link": true
    },
    "kernelspec": {
      "name": "python3",
      "display_name": "Python 3"
    },
    "language_info": {
      "name": "python"
    }
  },
  "cells": [
    {
      "cell_type": "markdown",
      "metadata": {
        "id": "view-in-github",
        "colab_type": "text"
      },
      "source": [
        "<a href=\"https://colab.research.google.com/github/aritradey-CS/Admission-Prediction/blob/master/Algorithm_Lab.ipynb\" target=\"_parent\"><img src=\"https://colab.research.google.com/assets/colab-badge.svg\" alt=\"Open In Colab\"/></a>"
      ]
    },
    {
      "cell_type": "markdown",
      "source": [
        "write an program with output for Binary search"
      ],
      "metadata": {
        "id": "PoFOVSZjBmuB"
      }
    },
    {
      "cell_type": "code",
      "execution_count": 1,
      "metadata": {
        "colab": {
          "base_uri": "https://localhost:8080/"
        },
        "id": "_VY4ItlPBjvD",
        "outputId": "41497f7f-dfe9-4777-a76b-063ed1ecb9e7"
      },
      "outputs": [
        {
          "output_type": "stream",
          "name": "stdout",
          "text": [
            "Element found at index 5\n"
          ]
        }
      ],
      "source": [
        "def binary_search(arr, target):\n",
        "    left = 0\n",
        "    right = len(arr) - 1\n",
        "\n",
        "    while left <= right:\n",
        "        mid = (left + right) // 2\n",
        "\n",
        "        if arr[mid] == target:\n",
        "            return mid\n",
        "        elif arr[mid] < target:\n",
        "            left = mid + 1\n",
        "        else:\n",
        "            right = mid - 1\n",
        "\n",
        "    return -1\n",
        "\n",
        "\n",
        "# Example usage\n",
        "arr = [2, 5, 8, 12, 16, 23, 38, 56, 72, 91]\n",
        "target = 23\n",
        "\n",
        "result = binary_search(arr, target)\n",
        "\n",
        "if result != -1:\n",
        "    print(\"Element found at index\", result)\n",
        "else:\n",
        "    print(\"Element not found\")\n"
      ]
    },
    {
      "cell_type": "markdown",
      "source": [
        "write an program with output for Merge sort"
      ],
      "metadata": {
        "id": "Yq14sm6cEBni"
      }
    },
    {
      "cell_type": "code",
      "source": [
        "def merge_sort(arr):\n",
        "    if len(arr) <= 1:\n",
        "        return arr\n",
        "\n",
        "    mid = len(arr) // 2\n",
        "    left_half = arr[:mid]\n",
        "    right_half = arr[mid:]\n",
        "\n",
        "    left_half = merge_sort(left_half)\n",
        "    right_half = merge_sort(right_half)\n",
        "\n",
        "    return merge(left_half, right_half)\n",
        "\n",
        "\n",
        "def merge(left_half, right_half):\n",
        "    merged = []\n",
        "    left_index = 0\n",
        "    right_index = 0\n",
        "\n",
        "    while left_index < len(left_half) and right_index < len(right_half):\n",
        "        if left_half[left_index] < right_half[right_index]:\n",
        "            merged.append(left_half[left_index])\n",
        "            left_index += 1\n",
        "        else:\n",
        "            merged.append(right_half[right_index])\n",
        "            right_index += 1\n",
        "\n",
        "    while left_index < len(left_half):\n",
        "        merged.append(left_half[left_index])\n",
        "        left_index += 1\n",
        "\n",
        "    while right_index < len(right_half):\n",
        "        merged.append(right_half[right_index])\n",
        "        right_index += 1\n",
        "\n",
        "    return merged\n",
        "\n",
        "\n",
        "# Example usage\n",
        "arr = [9, 4, 2, 7, 1, 5, 3, 8, 6]\n",
        "sorted_arr = merge_sort(arr)\n",
        "\n",
        "print(\"Original array:\", arr)\n",
        "print(\"Sorted array:\", sorted_arr)\n"
      ],
      "metadata": {
        "colab": {
          "base_uri": "https://localhost:8080/"
        },
        "id": "bxV5HCtsECKp",
        "outputId": "c84877f0-44eb-40df-8332-e7b218cf1fc1"
      },
      "execution_count": 2,
      "outputs": [
        {
          "output_type": "stream",
          "name": "stdout",
          "text": [
            "Original array: [9, 4, 2, 7, 1, 5, 3, 8, 6]\n",
            "Sorted array: [1, 2, 3, 4, 5, 6, 7, 8, 9]\n"
          ]
        }
      ]
    }
  ]
}