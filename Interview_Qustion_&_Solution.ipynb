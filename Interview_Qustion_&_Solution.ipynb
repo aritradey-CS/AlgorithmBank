{
  "nbformat": 4,
  "nbformat_minor": 0,
  "metadata": {
    "colab": {
      "provenance": [],
      "authorship_tag": "ABX9TyOyFFlvYBgF1M9Mf9SIWecT",
      "include_colab_link": true
    },
    "kernelspec": {
      "name": "python3",
      "display_name": "Python 3"
    },
    "language_info": {
      "name": "python"
    }
  },
  "cells": [
    {
      "cell_type": "markdown",
      "metadata": {
        "id": "view-in-github",
        "colab_type": "text"
      },
      "source": [
        "<a href=\"https://colab.research.google.com/github/aritradey-CS/AlgorithmBank/blob/master/Interview_Qustion_%26_Solution.ipynb\" target=\"_parent\"><img src=\"https://colab.research.google.com/assets/colab-badge.svg\" alt=\"Open In Colab\"/></a>"
      ]
    },
    {
      "cell_type": "markdown",
      "source": [
        "Two Pointers Moving at Different Speeds:\n",
        "In this scenario, one pointer moves slower than the other. The program finds if there is a loop in a linked list by using two pointers, one moving one step at a time and the other moving two steps at a time. If the pointers meet, it indicates the presence of a loop."
      ],
      "metadata": {
        "id": "RP-siHJKIa8c"
      }
    },
    {
      "cell_type": "code",
      "execution_count": 1,
      "metadata": {
        "colab": {
          "base_uri": "https://localhost:8080/"
        },
        "id": "8GCD4HeIIZ5V",
        "outputId": "fc9a9866-2036-4ac2-e451-65b77eb04af4"
      },
      "outputs": [
        {
          "output_type": "stream",
          "name": "stdout",
          "text": [
            "True\n"
          ]
        }
      ],
      "source": [
        "class Node:\n",
        "    def __init__(self, data):\n",
        "        self.data = data\n",
        "        self.next = None\n",
        "\n",
        "def has_loop(head):\n",
        "    slow_ptr = head\n",
        "    fast_ptr = head\n",
        "\n",
        "    while slow_ptr and fast_ptr and fast_ptr.next:\n",
        "        slow_ptr = slow_ptr.next\n",
        "        fast_ptr = fast_ptr.next.next\n",
        "\n",
        "        if slow_ptr == fast_ptr:\n",
        "            return True\n",
        "\n",
        "    return False\n",
        "\n",
        "# Example usage\n",
        "# Create a linked list with a loop\n",
        "head = Node(1)\n",
        "node2 = Node(2)\n",
        "node3 = Node(3)\n",
        "node4 = Node(4)\n",
        "node5 = Node(5)\n",
        "node6 = Node(6)\n",
        "\n",
        "head.next = node2\n",
        "node2.next = node3\n",
        "node3.next = node4\n",
        "node4.next = node5\n",
        "node5.next = node6\n",
        "node6.next = node3  # Creating a loop\n",
        "\n",
        "print(has_loop(head))  # Output: True\n"
      ]
    }
  ]
}